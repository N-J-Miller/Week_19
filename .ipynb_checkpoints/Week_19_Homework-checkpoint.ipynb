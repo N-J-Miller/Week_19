{
 "cells": [
  {
   "cell_type": "markdown",
   "id": "9b46a5be",
   "metadata": {},
   "source": [
    "# Week 19 Homework"
   ]
  },
  {
   "cell_type": "code",
   "execution_count": null,
   "id": "d3104c2c",
   "metadata": {},
   "outputs": [],
   "source": []
  },
  {
   "cell_type": "markdown",
   "id": "97b34b5e",
   "metadata": {},
   "source": [
    "### 1. Create a study guide for all the supervised learning models we have gone over. Include information about how the algorithms work, how they are evaluated, and any other information you deem necessary. Use your own words. Do NOT copy mine or that of articles we have read.\n"
   ]
  },
  {
   "cell_type": "markdown",
   "id": "21530b97",
   "metadata": {},
   "source": [
    "# Supervised Learning"
   ]
  },
  {
   "cell_type": "markdown",
   "id": "ee800911",
   "metadata": {},
   "source": [
    "The Supervised Learning Models we have used can be broken down into two distinct categories: Those used to learn about regression data, and those used to learn about categorical data. The study guide table below has information about each model hidden to allow for quizzing oneself. Click the text below the model name to reveal the hidden information.\n",
    "\n",
    "##### Regression Models:\n",
    "\n",
    "<table border=\"0\">\n",
    " <tr>\n",
    "    <td><b style=\"font-size:16px\">Name of Model1</b></td>\n",
    "    <td><b style=\"font-size:16px\">Name of Model2</b></td>\n",
    " </tr>\n",
    " <tr>\n",
    "    <td><details>\n",
    "  <summary>Click to Check Your Answer</summary>\n",
    "  Description of Model 1\n",
    "</details></td>\n",
    "    <td><details>\n",
    "  <summary>Come on, Smartypants...</summary>\n",
    "   Description of Model 2\n",
    "</details></td>\n",
    " </tr>\n",
    " <tr>\n",
    "    <td><b style=\"font-size:16px\">Name of Model3</b></td>\n",
    "    <td><b style=\"font-size:16px\">Name of Model4</b></td>\n",
    " </tr>\n",
    " <tr>\n",
    "    <td><details>\n",
    "  <summary>Give it a good try, first!</summary>\n",
    "  Description of Model 1\n",
    "</details></td>\n",
    "    <td><details>\n",
    "  <summary>You know this, right?</summary>\n",
    "   Description of Model 2\n",
    "</details></td>\n",
    " </tr>\n",
    " <tr>\n",
    "    <td><b style=\"font-size:16px\">Name of Model5</b></td>\n",
    "    <td><b style=\"font-size:16px\">Name of Model6</b></td>\n",
    " </tr>\n",
    " <tr>\n",
    "    <td><details>\n",
    "  <summary>Click to Check Your Answer</summary>\n",
    "  Description of Model 1\n",
    "</details></td>\n",
    "    <td><details>\n",
    "  <summary>Come on, Smartypants...</summary>\n",
    "   Description of Model 2\n",
    "</details></td>\n",
    " </tr>\n",
    " <tr>\n",
    "    <td><b style=\"font-size:16px\">Name of Model7</b></td>\n",
    "    <td><b style=\"font-size:16px\">Name of Model8</b></td>\n",
    " </tr>\n",
    " <tr>\n",
    "    <td><details>\n",
    "  <summary>Click to Check Your Answer</summary>\n",
    "  Description of Model 1\n",
    "</details></td>\n",
    "    <td><details>\n",
    "  <summary>Come on, Smartypants...</summary>\n",
    "   Description of Model 2\n",
    "</details></td>\n",
    " </tr>\n",
    "</table>"
   ]
  },
  {
   "cell_type": "code",
   "execution_count": null,
   "id": "4a9934c8",
   "metadata": {},
   "outputs": [],
   "source": []
  },
  {
   "cell_type": "markdown",
   "id": "b8fb6bf8",
   "metadata": {},
   "source": [
    "### 2. Do the same as question 1 except for unsupervised learning models. Something that is necessary for many models is determining number, so specify how you determine the number of clusters for example. Apply this concept to any other algorithms it is relevant for."
   ]
  },
  {
   "cell_type": "markdown",
   "id": "0df0a3c2",
   "metadata": {},
   "source": [
    "# Unsupervised Learning"
   ]
  },
  {
   "cell_type": "code",
   "execution_count": null,
   "id": "92fd0608",
   "metadata": {},
   "outputs": [],
   "source": []
  },
  {
   "cell_type": "code",
   "execution_count": null,
   "id": "9843d3da",
   "metadata": {},
   "outputs": [],
   "source": []
  },
  {
   "cell_type": "code",
   "execution_count": null,
   "id": "6962e57a",
   "metadata": {},
   "outputs": [],
   "source": []
  },
  {
   "cell_type": "markdown",
   "id": "27a48f2b",
   "metadata": {},
   "source": [
    "### 3. Preprocess the customer data https://www.kaggle.com/carrie1/ecommerce-data . How are you handling nulls? What process(es) are you using to encode and normalize the data?"
   ]
  },
  {
   "cell_type": "code",
   "execution_count": null,
   "id": "8ce21deb",
   "metadata": {},
   "outputs": [],
   "source": []
  },
  {
   "cell_type": "code",
   "execution_count": null,
   "id": "cb72285f",
   "metadata": {},
   "outputs": [],
   "source": []
  },
  {
   "cell_type": "code",
   "execution_count": null,
   "id": "49cbee16",
   "metadata": {},
   "outputs": [],
   "source": []
  },
  {
   "cell_type": "code",
   "execution_count": null,
   "id": "2518bc96",
   "metadata": {},
   "outputs": [],
   "source": []
  },
  {
   "cell_type": "markdown",
   "id": "7b0e26ae",
   "metadata": {},
   "source": [
    "### 4. Perform k-means on this dataset for customer segments. Customer segments help determine what types of people buy your product, which allows you to target more people like your usual customers. Should you look at all the data, or which subset of data should you use? What is the ideal number of clusters? Which approach did you use to find the ideal number of clusters and why?"
   ]
  },
  {
   "cell_type": "code",
   "execution_count": null,
   "id": "163db869",
   "metadata": {},
   "outputs": [],
   "source": []
  },
  {
   "cell_type": "code",
   "execution_count": null,
   "id": "fde5888d",
   "metadata": {},
   "outputs": [],
   "source": []
  },
  {
   "cell_type": "code",
   "execution_count": null,
   "id": "428ba65a",
   "metadata": {},
   "outputs": [],
   "source": []
  },
  {
   "cell_type": "code",
   "execution_count": null,
   "id": "38512966",
   "metadata": {},
   "outputs": [],
   "source": []
  },
  {
   "cell_type": "code",
   "execution_count": null,
   "id": "71baefc8",
   "metadata": {},
   "outputs": [],
   "source": []
  },
  {
   "cell_type": "code",
   "execution_count": null,
   "id": "09254984",
   "metadata": {},
   "outputs": [],
   "source": []
  },
  {
   "cell_type": "code",
   "execution_count": null,
   "id": "11204500",
   "metadata": {},
   "outputs": [],
   "source": []
  },
  {
   "cell_type": "markdown",
   "id": "3c1aa783",
   "metadata": {},
   "source": [
    "### 5. Perform hierarchical clustering for customer segments. What is the ideal number of clusters? Which approach did you use to find the ideal number of clusters and why?"
   ]
  },
  {
   "cell_type": "code",
   "execution_count": null,
   "id": "9bb33a5b",
   "metadata": {},
   "outputs": [],
   "source": []
  },
  {
   "cell_type": "code",
   "execution_count": null,
   "id": "051c63c8",
   "metadata": {},
   "outputs": [],
   "source": []
  },
  {
   "cell_type": "code",
   "execution_count": null,
   "id": "047f1cc0",
   "metadata": {},
   "outputs": [],
   "source": []
  },
  {
   "cell_type": "markdown",
   "id": "84d21db2",
   "metadata": {},
   "source": [
    "### 6. Compare the results of 4 and 5. Which approach do you think is best? Why?"
   ]
  },
  {
   "cell_type": "code",
   "execution_count": null,
   "id": "b8cc5264",
   "metadata": {},
   "outputs": [],
   "source": []
  },
  {
   "cell_type": "code",
   "execution_count": null,
   "id": "c153d70d",
   "metadata": {},
   "outputs": [],
   "source": []
  },
  {
   "cell_type": "code",
   "execution_count": null,
   "id": "2343bffc",
   "metadata": {},
   "outputs": [],
   "source": []
  }
 ],
 "metadata": {
  "kernelspec": {
   "display_name": "Python 3 (ipykernel)",
   "language": "python",
   "name": "python3"
  },
  "language_info": {
   "codemirror_mode": {
    "name": "ipython",
    "version": 3
   },
   "file_extension": ".py",
   "mimetype": "text/x-python",
   "name": "python",
   "nbconvert_exporter": "python",
   "pygments_lexer": "ipython3",
   "version": "3.9.7"
  }
 },
 "nbformat": 4,
 "nbformat_minor": 5
}
