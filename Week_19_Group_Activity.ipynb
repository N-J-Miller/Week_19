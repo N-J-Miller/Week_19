{
 "cells": [
  {
   "cell_type": "markdown",
   "id": "f64880d5",
   "metadata": {},
   "source": [
    "# Week 19 Group Activity"
   ]
  },
  {
   "cell_type": "markdown",
   "id": "16340647",
   "metadata": {},
   "source": [
    "## 1. Take one of the supervised learning models you have built recently and apply at least three dimensionality reduction techniques to it (separately). Be sure to create a short summary of each technique you use. Indicate how each changed the model performance. \n",
    "Reference:\n",
    "https://machinelearningmastery.com/dimensionality-reduction-algorithms-with-python/"
   ]
  },
  {
   "cell_type": "code",
   "execution_count": 23,
   "id": "7bc8f3e4",
   "metadata": {},
   "outputs": [],
   "source": [
    "# Dependencies and Modules\n",
    "\n",
    "import numpy as np\n",
    "import pandas as pd\n",
    "from sklearn import metrics\n",
    "\n",
    "import matplotlib.pyplot as plt\n",
    "from sklearn.discriminant_analysis import LinearDiscriminantAnalysis\n",
    "from sklearn.linear_model import LogisticRegression\n",
    "from sklearn.preprocessing import StandardScaler\n",
    "from sklearn.model_selection import cross_val_score, RepeatedStratifiedKFold, train_test_split\n",
    "from sklearn.pipeline import Pipeline\n",
    "from scipy.spatial.distance import cdist\n",
    "from sklearn.decomposition import PCA\n",
    "from sklearn.manifold import Isomap\n",
    "\n",
    "# diabetes csv:\n",
    "diabetes_df = pd.read_csv(\"diabetes.csv\")\n",
    "\n",
    "# Separate data into input and output variables\n",
    "X = diabetes_df.drop('Outcome', axis=1)\n",
    "y = diabetes_df['Outcome']\n",
    "\n",
    "# Split up data into training and test dates:\n",
    "X_train, X_test, y_train, y_test = train_test_split(X, y, test_size = 0.3, random_state=42, stratify=y)"
   ]
  },
  {
   "cell_type": "markdown",
   "id": "9a979f73",
   "metadata": {},
   "source": [
    "### Linear Discriminant Analysis"
   ]
  },
  {
   "cell_type": "code",
   "execution_count": 22,
   "id": "04d09ae1",
   "metadata": {},
   "outputs": [
    {
     "name": "stdout",
     "output_type": "stream",
     "text": [
      "Accuracy: 0.772 (0.043)\n"
     ]
    }
   ],
   "source": [
    "# set the parameters\n",
    "steps = [('lda', LinearDiscriminantAnalysis(n_components=1)), ('m', LogisticRegression())]\n",
    "model = Pipeline(steps=steps)\n",
    "\n",
    "# evaluate model\n",
    "cv = RepeatedStratifiedKFold(n_splits=10, n_repeats=3, random_state=42)\n",
    "n_scores = cross_val_score(model, X, y, scoring='accuracy', cv=cv, n_jobs=-1)\n",
    "\n",
    "# Report\n",
    "print('Accuracy: %.3f (%.3f)' % (np.mean(n_scores), np.std(n_scores)))"
   ]
  },
  {
   "cell_type": "markdown",
   "id": "bb17df01",
   "metadata": {},
   "source": [
    "This score is already better than what we get in class with just LogisticRegression. Linear Discriminant Analysis is appropriate for this dataset because it is a multi-class classification algorithm. It works by limiting the number of dimensions for the projection to 1, Class-1. "
   ]
  },
  {
   "cell_type": "markdown",
   "id": "2f7b1291",
   "metadata": {},
   "source": [
    "### Principal Component Analysis"
   ]
  },
  {
   "cell_type": "code",
   "execution_count": 18,
   "id": "93122bd8",
   "metadata": {},
   "outputs": [
    {
     "name": "stdout",
     "output_type": "stream",
     "text": [
      "Accuracy: 0.773 (0.043)\n"
     ]
    }
   ],
   "source": [
    "# evaluate pca with logistic regression for classification\n",
    "\n",
    "# define the pipeline\n",
    "steps = [('pca', PCA(n_components=8)), ('m', LogisticRegression())]\n",
    "model = Pipeline(steps=steps)\n",
    "# evaluate model\n",
    "cv = RepeatedStratifiedKFold(n_splits=10, n_repeats=3, random_state=1)\n",
    "n_scores = cross_val_score(model, X, y, scoring='accuracy', cv=cv, n_jobs=-1)\n",
    "# report performance\n",
    "print('Accuracy: %.3f (%.3f)' % (mean(n_scores), std(n_scores)))"
   ]
  },
  {
   "cell_type": "markdown",
   "id": "be1430e9",
   "metadata": {},
   "source": [
    "PCA is the most common reduction technique for classification problems. The parameter n_components defines number of desired dimensions. We see a small improvement in our metrics."
   ]
  },
  {
   "cell_type": "markdown",
   "id": "cd41a7dd",
   "metadata": {},
   "source": [
    "### Isomap"
   ]
  },
  {
   "cell_type": "code",
   "execution_count": 19,
   "id": "fb01a2a5",
   "metadata": {},
   "outputs": [
    {
     "name": "stdout",
     "output_type": "stream",
     "text": [
      "Accuracy: 0.725 (0.048)\n"
     ]
    }
   ],
   "source": [
    "# evaluate isomap with logistic regression algorithm for classification\n",
    "\n",
    "# define the pipeline\n",
    "steps = [('iso', Isomap(n_components=8)), ('m', LogisticRegression())]\n",
    "model = Pipeline(steps=steps)\n",
    "# evaluate model\n",
    "cv = RepeatedStratifiedKFold(n_splits=10, n_repeats=3, random_state=1)\n",
    "n_scores = cross_val_score(model, X, y, scoring='accuracy', cv=cv, n_jobs=-1)\n",
    "# report performance\n",
    "print('Accuracy: %.3f (%.3f)' % (mean(n_scores), std(n_scores)))"
   ]
  },
  {
   "cell_type": "markdown",
   "id": "1a09b940",
   "metadata": {},
   "source": [
    "Isomap attempts to preserve the relationship within the data. It caused the score to drop a little."
   ]
  },
  {
   "cell_type": "markdown",
   "id": "15205d0b",
   "metadata": {},
   "source": [
    "## 2. Write a function that will indicate if an inputted IPv4 address is accurate or not. IP addresses are valid if they have 4 values between 0 and 255 (inclusive), punctuated by periods.\n",
    "**Input 1:**\\\n",
    "2.33.245.5\\\n",
    "**Output 1:**\\\n",
    "True\n",
    "\n",
    "**Input 2:**\\\n",
    "12.345.67.89\\\n",
    "**Output 2:**\\\n",
    "False"
   ]
  },
  {
   "cell_type": "code",
   "execution_count": 14,
   "id": "0787d51a",
   "metadata": {},
   "outputs": [],
   "source": [
    "#define function\n",
    "def accurate(ip):\n",
    "    val= str(ip).split('.') #identify the punctuation\n",
    "    if len(val) == 4: #set length of value\n",
    "        for i in val:\n",
    "            if int(i)< 0 or int(i) > 255: #0 and 255 inclusive\n",
    "                return False\n",
    "    else:\n",
    "        return False\n",
    "    return True"
   ]
  },
  {
   "cell_type": "code",
   "execution_count": 15,
   "id": "ef4e3ec3",
   "metadata": {},
   "outputs": [
    {
     "data": {
      "text/plain": [
       "True"
      ]
     },
     "execution_count": 15,
     "metadata": {},
     "output_type": "execute_result"
    }
   ],
   "source": [
    "accurate('2.33.245.5')"
   ]
  },
  {
   "cell_type": "code",
   "execution_count": 24,
   "id": "3c4e0698",
   "metadata": {},
   "outputs": [
    {
     "data": {
      "text/plain": [
       "False"
      ]
     },
     "execution_count": 24,
     "metadata": {},
     "output_type": "execute_result"
    }
   ],
   "source": [
    "accurate('3.55.2343.7')"
   ]
  },
  {
   "cell_type": "code",
   "execution_count": null,
   "id": "40b7c362",
   "metadata": {},
   "outputs": [],
   "source": []
  },
  {
   "cell_type": "code",
   "execution_count": null,
   "id": "459a5b7f",
   "metadata": {},
   "outputs": [],
   "source": []
  }
 ],
 "metadata": {
  "kernelspec": {
   "display_name": "Python 3 (ipykernel)",
   "language": "python",
   "name": "python3"
  },
  "language_info": {
   "codemirror_mode": {
    "name": "ipython",
    "version": 3
   },
   "file_extension": ".py",
   "mimetype": "text/x-python",
   "name": "python",
   "nbconvert_exporter": "python",
   "pygments_lexer": "ipython3",
   "version": "3.9.7"
  }
 },
 "nbformat": 4,
 "nbformat_minor": 5
}
